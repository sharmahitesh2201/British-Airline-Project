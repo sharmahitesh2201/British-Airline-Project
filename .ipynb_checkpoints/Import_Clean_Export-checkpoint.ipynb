{
 "cells": [
  {
   "cell_type": "code",
   "execution_count": 1,
   "id": "5df3f125-a800-401c-9551-a802099fe2a7",
   "metadata": {},
   "outputs": [],
   "source": [
    "import pandas as pd\n",
    "import numpy as np\n",
    "import chardet\n",
    "from sqlalchemy import create_engine"
   ]
  },
  {
   "cell_type": "code",
   "execution_count": 2,
   "id": "326257e9-4b07-42b3-876d-5807c4db7a2b",
   "metadata": {},
   "outputs": [
    {
     "name": "stdout",
     "output_type": "stream",
     "text": [
      "Detected encoding: utf-8\n"
     ]
    }
   ],
   "source": [
    "#Detect character encoding of the file if you are getting errors while reading data from it\n",
    "#use the method below -- pre-requisite: pip install chardet\n",
    "\n",
    "with open('ba_reviews.csv', 'rb') as file:\n",
    "    data = file.read(100000)\n",
    "    result = chardet.detect(data)\n",
    "    encoding = result['encoding']\n",
    "    print(f\"Detected encoding: {encoding}\")"
   ]
  },
  {
   "cell_type": "code",
   "execution_count": 3,
   "id": "6b3dc6c7-783b-4360-8776-b9b88dc0d0a3",
   "metadata": {},
   "outputs": [
    {
     "name": "stdout",
     "output_type": "stream",
     "text": [
      "Detected encoding: UTF-8-SIG\n"
     ]
    }
   ],
   "source": [
    "with open('Countries.csv', 'rb') as file:\n",
    "    data = file.read(100000)\n",
    "    result = chardet.detect(data)\n",
    "    encoding = result['encoding']\n",
    "    print(f\"Detected encoding: {encoding}\")"
   ]
  },
  {
   "cell_type": "code",
   "execution_count": 4,
   "id": "25e18085-d85f-45e8-91da-9d318113031b",
   "metadata": {},
   "outputs": [],
   "source": [
    "reviews_df = pd.read_csv('ba_reviews.csv', encoding='utf-8')\n",
    "countries_df = pd.read_csv('ba_reviews.csv', encoding='UTF-8-SIG')"
   ]
  },
  {
   "cell_type": "code",
   "execution_count": 13,
   "id": "958d93ef-0d46-4f4a-af71-92328120d84a",
   "metadata": {},
   "outputs": [],
   "source": [
    "#There is just one null value so dropping it won't be any problem\n",
    "\n",
    "countries_df.dropna(subset=['traveller_type'], inplace=True)"
   ]
  },
  {
   "cell_type": "code",
   "execution_count": 14,
   "id": "45cac079-7b3e-459f-83fc-78a20c40c7bb",
   "metadata": {},
   "outputs": [],
   "source": [
    "#There is just one null value so dropping it won't be any problem\n",
    "\n",
    "reviews_df.dropna(subset=['traveller_type'], inplace=True)"
   ]
  },
  {
   "cell_type": "code",
   "execution_count": 12,
   "id": "6b239fb0-e703-43ff-ac81-6b710da638eb",
   "metadata": {},
   "outputs": [
    {
     "data": {
      "text/plain": [
       "header                 0\n",
       "author                 0\n",
       "date                   0\n",
       "place                  0\n",
       "content                0\n",
       "aircraft               0\n",
       "traveller_type         0\n",
       "seat_type              0\n",
       "route                  0\n",
       "date_flown             0\n",
       "recommended            0\n",
       "trip_verified          0\n",
       "rating                 0\n",
       "seat_comfort           0\n",
       "cabin_staff_service    0\n",
       "food_beverages         0\n",
       "ground_service         0\n",
       "value_for_money        0\n",
       "entertainment          0\n",
       "dtype: int64"
      ]
     },
     "execution_count": 12,
     "metadata": {},
     "output_type": "execute_result"
    }
   ],
   "source": [
    "reviews_df.isnull().sum()"
   ]
  },
  {
   "cell_type": "code",
   "execution_count": 11,
   "id": "972faec4-3409-43fe-bd96-da0039cd9c70",
   "metadata": {},
   "outputs": [
    {
     "data": {
      "text/plain": [
       "header                 0\n",
       "author                 0\n",
       "date                   0\n",
       "place                  0\n",
       "content                0\n",
       "aircraft               0\n",
       "traveller_type         0\n",
       "seat_type              0\n",
       "route                  0\n",
       "date_flown             0\n",
       "recommended            0\n",
       "trip_verified          0\n",
       "rating                 0\n",
       "seat_comfort           0\n",
       "cabin_staff_service    0\n",
       "food_beverages         0\n",
       "ground_service         0\n",
       "value_for_money        0\n",
       "entertainment          0\n",
       "dtype: int64"
      ]
     },
     "execution_count": 11,
     "metadata": {},
     "output_type": "execute_result"
    }
   ],
   "source": [
    "countries_df.isnull().sum()"
   ]
  },
  {
   "cell_type": "code",
   "execution_count": null,
   "id": "98cbcd2f-a492-4f37-b8e0-1ea1f7a649d9",
   "metadata": {},
   "outputs": [],
   "source": [
    "#To import data use the following method\n",
    "#Here I am using a MySQL data base\n",
    "\n",
    "### Database credentials\n",
    "# username = 'your_username'\n",
    "# password = 'your_password'\n",
    "# host = 'your_host'\n",
    "# port = 'your_port'  # Default MySQL port is 3306\n",
    "# database = 'your_database'\n",
    "\n",
    "### Create SQLAlchemy engine\n",
    "# engine = create_engine(f'mysql+pymysql://{username}:{password}@{host}:{port}/{database}')\n",
    "\n",
    "### Load DataFrame to MySQL\n",
    "# df.to_sql(name='your_table_name', con=engine, if_exists='replace', index=False)"
   ]
  }
 ],
 "metadata": {
  "kernelspec": {
   "display_name": "Python 3 (ipykernel)",
   "language": "python",
   "name": "python3"
  },
  "language_info": {
   "codemirror_mode": {
    "name": "ipython",
    "version": 3
   },
   "file_extension": ".py",
   "mimetype": "text/x-python",
   "name": "python",
   "nbconvert_exporter": "python",
   "pygments_lexer": "ipython3",
   "version": "3.11.5"
  }
 },
 "nbformat": 4,
 "nbformat_minor": 5
}
